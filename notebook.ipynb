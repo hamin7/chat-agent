{
 "cells": [
  {
   "cell_type": "code",
   "id": "initial_id",
   "metadata": {
    "collapsed": true,
    "ExecuteTime": {
     "end_time": "2024-10-29T14:04:31.590684Z",
     "start_time": "2024-10-29T14:04:07.560552Z"
    }
   },
   "source": [
    "from linecache import cache\n",
    "\n",
    "from IPython.core.debugger import prompt\n",
    "from langchain.chat_models import ChatOpenAI\n",
    "from langchain.document_loaders import UnstructuredFileLoader\n",
    "from langchain.text_splitter import CharacterTextSplitter\n",
    "from langchain.embeddings import OpenAIEmbeddings, CacheBackedEmbeddings\n",
    "from langchain.vectorstores import FAISS\n",
    "from langchain.storage import LocalFileStore\n",
    "from langchain.chains import RetrievalQA\n",
    "import nltk\n",
    "import ssl\n",
    "from dotenv import load_dotenv\n",
    "from nltk.data import retrieve\n",
    "from sympy.physics.units import temperature\n",
    "\n",
    "load_dotenv(dotenv_path=\".env\")\n",
    "cache_dir = LocalFileStore(\"./.cache/\")\n",
    "\n",
    "# SSL 인증서 무시\n",
    "ssl._create_default_https_context = ssl._create_unverified_context\n",
    "nltk.download('punkt')\n",
    "\n",
    "llm = ChatOpenAI()\n",
    "\n",
    "splitter = CharacterTextSplitter.from_tiktoken_encoder(\n",
    "    separator=\"\\n\",\n",
    "    chunk_size=600,\n",
    "    chunk_overlap=100\n",
    ")\n",
    "loader = UnstructuredFileLoader(\"./files/ohtani.txt\")\n",
    "\n",
    "docs = loader.load_and_split(splitter)\n",
    "\n",
    "embeddings = OpenAIEmbeddings()\n",
    "\n",
    "cached_embeddings = CacheBackedEmbeddings.from_bytes_store(\n",
    "    embeddings, cache_dir\n",
    ")\n",
    "\n",
    "vectorstore = FAISS.from_documents(docs, cached_embeddings)\n",
    "\n",
    "chain = RetrievalQA.from_chain_type(\n",
    "    llm=llm,\n",
    "    chain_type=\"refine\",\n",
    "    retriever=vectorstore.as_retriever(),\n",
    ")\n",
    "\n",
    "chain.run(\"Which team does ohtani play baseball\")\n",
    "\n",
    "chain.run(\"Describe Los Angeles Angels\")"
   ],
   "outputs": [
    {
     "name": "stderr",
     "output_type": "stream",
     "text": [
      "[nltk_data] Downloading package punkt to /Users/leehamin/nltk_data...\n",
      "[nltk_data]   Package punkt is already up-to-date!\n"
     ]
    },
    {
     "data": {
      "text/plain": [
       "'The Los Angeles Angels are a professional baseball team based in Anaheim, California, and are a member of the American League West division in Major League Baseball. The team has a dedicated fan base and plays their home games at Angel Stadium of Anaheim. One of the standout players on the Angels in recent years has been Shohei Ohtani, a two-way player who excels both as a pitcher and a hitter. Ohtani signed with the Angels in 2017 with a limited bonus due to international signing rules. \\n\\nInitially, Ohtani faced challenges during his debut MLB spring training in 2018, with many American news sources expressing disappointment in his performance and questioning his abilities as a two-way player. However, Ohtani proved his critics wrong during the 2018 MLB regular season, showcasing his exceptional talent both as a pitcher and a hitter. He went on to win the American League Rookie of the Year award, solidifying his status as one of the top players in Major League Baseball. His impressive performance on the field has earned him multiple accolades and recognition from both fans and the media.'"
      ]
     },
     "execution_count": 2,
     "metadata": {},
     "output_type": "execute_result"
    }
   ],
   "execution_count": 2
  },
  {
   "metadata": {
    "ExecuteTime": {
     "end_time": "2024-10-29T14:32:00.452292Z",
     "start_time": "2024-10-29T14:31:58.118419Z"
    }
   },
   "cell_type": "code",
   "source": [
    "from linecache import cache\n",
    "\n",
    "from langchain.chat_models import ChatOpenAI\n",
    "from langchain.document_loaders import UnstructuredFileLoader\n",
    "from langchain.text_splitter import CharacterTextSplitter\n",
    "from langchain.embeddings import OpenAIEmbeddings, CacheBackedEmbeddings\n",
    "from langchain.vectorstores import FAISS\n",
    "from langchain.storage import LocalFileStore\n",
    "from langchain.prompts import ChatPromptTemplate\n",
    "from langchain.schema.runnable import RunnablePassthrough\n",
    "\n",
    "import nltk\n",
    "import ssl\n",
    "from dotenv import load_dotenv\n",
    "\n",
    "load_dotenv(dotenv_path=\".env\")\n",
    "cache_dir = LocalFileStore(\"./.cache/\")\n",
    "\n",
    "# SSL 인증서 무시\n",
    "ssl._create_default_https_context = ssl._create_unverified_context\n",
    "nltk.download('punkt')\n",
    "\n",
    "llm = ChatOpenAI(\n",
    "    temperature=0.1\n",
    ")\n",
    "\n",
    "splitter = CharacterTextSplitter.from_tiktoken_encoder(\n",
    "    separator=\"\\n\",\n",
    "    chunk_size=600,\n",
    "    chunk_overlap=100\n",
    ")\n",
    "loader = UnstructuredFileLoader(\"./files/ohtani.txt\")\n",
    "\n",
    "docs = loader.load_and_split(splitter)\n",
    "\n",
    "embeddings = OpenAIEmbeddings()\n",
    "\n",
    "cached_embeddings = CacheBackedEmbeddings.from_bytes_store(\n",
    "    embeddings, cache_dir\n",
    ")\n",
    "\n",
    "vectorstore = FAISS.from_documents(docs, cached_embeddings)\n",
    "\n",
    "retriever = vectorstore.as_retriever()\n",
    "\n",
    "prompt = ChatPromptTemplate.from_messages([\n",
    "    (\n",
    "        \"system\",\n",
    "        \"You are a helpful assistant. Answer questions using only the following context. If you don't know the answer just say you don't know, don't make it up:\\n\\n{context}\",\n",
    "    ),\n",
    "    (\"human\", \"{question}\"),\n",
    "])\n",
    "\n",
    "chain = (\n",
    "        {\"context\": retriever, \"question\": RunnablePassthrough()} \n",
    "         | prompt\n",
    "         | llm)\n",
    "\n",
    "chain.invoke(\"Describe ohtani\")"
   ],
   "id": "7b80e566ac617f29",
   "outputs": [
    {
     "name": "stderr",
     "output_type": "stream",
     "text": [
      "[nltk_data] Downloading package punkt to /Users/leehamin/nltk_data...\n",
      "[nltk_data]   Package punkt is already up-to-date!\n"
     ]
    },
    {
     "data": {
      "text/plain": [
       "AIMessage(content='Shohei Ohtani is a Japanese professional baseball player who is known for his exceptional skills as both a pitcher and a designated hitter. He has played for the Los Angeles Angels and currently plays for the Los Angeles Dodgers. Ohtani has been compared to Babe Ruth for his rare two-way abilities. He has won multiple awards, including the American League Most Valuable Player Award. In 2023, he signed a record-breaking 10-year, $700 million contract with the Dodgers.')"
      ]
     },
     "execution_count": 4,
     "metadata": {},
     "output_type": "execute_result"
    }
   ],
   "execution_count": 4
  },
  {
   "metadata": {
    "ExecuteTime": {
     "end_time": "2024-10-29T17:13:42.419672Z",
     "start_time": "2024-10-29T17:13:04.040764Z"
    }
   },
   "cell_type": "code",
   "source": [
    "from langchain.agents import create_sql_agent, AgentType\n",
    "from langchain.chat_models import ChatOpenAI\n",
    "from langchain.agents.agent_toolkits import SQLDatabaseToolkit\n",
    "from langchain.sql_database import SQLDatabase\n",
    "\n",
    "llm = ChatOpenAI(\n",
    "    temperature=0.1,\n",
    "    model_name=\"gpt-4-1106-preview\",\n",
    ")\n",
    "db = SQLDatabase.from_uri(\"sqlite:///movies.sqlite\")\n",
    "toolkit = SQLDatabaseToolkit(db=db, llm=llm)\n",
    "\n",
    "agent = create_sql_agent(\n",
    "    llm=llm,\n",
    "    toolkit=toolkit,\n",
    "    agent_type=AgentType.OPENAI_FUNCTIONS,\n",
    "    verbose=True,\n",
    ")\n",
    "\n",
    "agent.invoke(\n",
    "    \"Give me the movies that have the highest votes but the lowest budgets and give me the name of their directors also include their gross revenue.\"\n",
    ")"
   ],
   "id": "c0ac9e06a4ce834c",
   "outputs": [
    {
     "name": "stdout",
     "output_type": "stream",
     "text": [
      "\n",
      "\n",
      "\u001B[1m> Entering new AgentExecutor chain...\u001B[0m\n",
      "\u001B[32;1m\u001B[1;3m\n",
      "Invoking: `sql_db_list_tables` with ``\n",
      "\n",
      "\n",
      "\u001B[0m\u001B[38;5;200m\u001B[1;3mdirectors, movies\u001B[0m\u001B[32;1m\u001B[1;3m\n",
      "Invoking: `sql_db_schema` with `movies, directors`\n",
      "\n",
      "\n",
      "\u001B[0m\u001B[33;1m\u001B[1;3m\n",
      "CREATE TABLE directors (\n",
      "\tname TEXT, \n",
      "\tid INTEGER, \n",
      "\tgender INTEGER, \n",
      "\tuid INTEGER, \n",
      "\tdepartment TEXT, \n",
      "\tPRIMARY KEY (id)\n",
      ")\n",
      "\n",
      "/*\n",
      "3 rows from directors table:\n",
      "name\tid\tgender\tuid\tdepartment\n",
      "James Cameron\t4762\t2\t2710\tDirecting\n",
      "Gore Verbinski\t4763\t2\t1704\tDirecting\n",
      "Sam Mendes\t4764\t2\t39\tDirecting\n",
      "*/\n",
      "\n",
      "\n",
      "CREATE TABLE movies (\n",
      "\tid INTEGER, \n",
      "\toriginal_title VARCHAR, \n",
      "\tbudget INTEGER, \n",
      "\tpopularity INTEGER, \n",
      "\trelease_date TEXT, \n",
      "\trevenue INTEGER, \n",
      "\ttitle TEXT, \n",
      "\tvote_average REAL, \n",
      "\tvote_count INTEGER, \n",
      "\toverview TEXT, \n",
      "\ttagline TEXT, \n",
      "\tuid INTEGER, \n",
      "\tdirector_id INTEGER DEFAULT 0 NOT NULL, \n",
      "\tPRIMARY KEY (id)\n",
      ")\n",
      "\n",
      "/*\n",
      "3 rows from movies table:\n",
      "id\toriginal_title\tbudget\tpopularity\trelease_date\trevenue\ttitle\tvote_average\tvote_count\toverview\ttagline\tuid\tdirector_id\n",
      "43597\tAvatar\t237000000\t150\t2009-12-10\t2787965087\tAvatar\t7.2\t11800\tIn the 22nd century, a paraplegic Marine is dispatched to the moon Pandora on a unique mission, but \tEnter the World of Pandora.\t19995\t4762\n",
      "43598\tPirates of the Caribbean: At World's End\t300000000\t139\t2007-05-19\t961000000\tPirates of the Caribbean: At World's End\t6.9\t4500\tCaptain Barbossa, long believed to be dead, has come back to life and is headed to the edge of the E\tAt the end of the world, the adventure begins.\t285\t4763\n",
      "43599\tSpectre\t245000000\t107\t2015-10-26\t880674609\tSpectre\t6.3\t4466\tA cryptic message from Bond’s past sends him on a trail to uncover a sinister organization. While M \tA Plan No One Escapes\t206647\t4764\n",
      "*/\u001B[0m\u001B[32;1m\u001B[1;3m\n",
      "Invoking: `sql_db_query_checker` with `SELECT m.original_title, d.name AS director_name, m.revenue FROM movies m JOIN directors d ON m.director_id = d.id ORDER BY m.vote_count DESC, m.budget ASC LIMIT 10`\n",
      "responded: To find the movies with the highest votes but the lowest budgets, I will need to join the `movies` table with the `directors` table on the `director_id` field. I will order the results by `vote_count` in descending order to get the highest votes and by `budget` in ascending order to get the lowest budgets. I will limit the results to at most 10 and select the relevant columns: `original_title`, `name` as the director's name, and `revenue` as the gross revenue.\n",
      "\n",
      "Let's construct the query.\n",
      "\n",
      "\u001B[0m\u001B[36;1m\u001B[1;3mThe provided SQLite query does not appear to contain any of the common mistakes listed. It does not use NOT IN, UNION or BETWEEN, there are no apparent data type mismatches, identifiers do not require quoting, the functions used do not require arguments, there is no casting, and the columns used for the join seem appropriate. Therefore, the original query can be reproduced as is:\n",
      "\n",
      "```sql\n",
      "SELECT m.original_title, d.name AS director_name, m.revenue\n",
      "FROM movies m\n",
      "JOIN directors d ON m.director_id = d.id\n",
      "ORDER BY m.vote_count DESC, m.budget ASC\n",
      "LIMIT 10\n",
      "```\u001B[0m\u001B[32;1m\u001B[1;3m\n",
      "Invoking: `sql_db_query` with `SELECT m.original_title, d.name AS director_name, m.revenue FROM movies m JOIN directors d ON m.director_id = d.id ORDER BY m.vote_count DESC, m.budget ASC LIMIT 10`\n",
      "\n",
      "\n",
      "\u001B[0m\u001B[36;1m\u001B[1;3m[('Inception', 'Christopher Nolan', 825532764), ('The Dark Knight', 'Christopher Nolan', 1004558444), ('Avatar', 'James Cameron', 2787965087), ('The Avengers', 'Joss Whedon', 1519557910), ('Deadpool', 'Tim Miller', 783112979), ('Interstellar', 'Christopher Nolan', 675120017), ('Django Unchained', 'Quentin Tarantino', 425368238), ('Guardians of the Galaxy', 'James Gunn', 773328629), ('The Hunger Games', 'Gary Ross', 691210692), ('Mad Max: Fury Road', 'George Miller', 378858340)]\u001B[0m\u001B[32;1m\u001B[1;3mHere are the movies with the highest votes but the lowest budgets, along with the names of their directors and their gross revenue:\n",
      "\n",
      "1. \"Inception\" directed by Christopher Nolan with a gross revenue of $825,532,764.\n",
      "2. \"The Dark Knight\" directed by Christopher Nolan with a gross revenue of $1,004,558,444.\n",
      "3. \"Avatar\" directed by James Cameron with a gross revenue of $2,787,965,087.\n",
      "4. \"The Avengers\" directed by Joss Whedon with a gross revenue of $1,519,557,910.\n",
      "5. \"Deadpool\" directed by Tim Miller with a gross revenue of $783,112,979.\n",
      "6. \"Interstellar\" directed by Christopher Nolan with a gross revenue of $675,120,017.\n",
      "7. \"Django Unchained\" directed by Quentin Tarantino with a gross revenue of $425,368,238.\n",
      "8. \"Guardians of the Galaxy\" directed by James Gunn with a gross revenue of $773,328,629.\n",
      "9. \"The Hunger Games\" directed by Gary Ross with a gross revenue of $691,210,692.\n",
      "10. \"Mad Max: Fury Road\" directed by George Miller with a gross revenue of $378,858,340.\u001B[0m\n",
      "\n",
      "\u001B[1m> Finished chain.\u001B[0m\n"
     ]
    },
    {
     "data": {
      "text/plain": [
       "{'input': 'Give me the movies that have the highest votes but the lowest budgets and give me the name of their directors also include their gross revenue.',\n",
       " 'output': 'Here are the movies with the highest votes but the lowest budgets, along with the names of their directors and their gross revenue:\\n\\n1. \"Inception\" directed by Christopher Nolan with a gross revenue of $825,532,764.\\n2. \"The Dark Knight\" directed by Christopher Nolan with a gross revenue of $1,004,558,444.\\n3. \"Avatar\" directed by James Cameron with a gross revenue of $2,787,965,087.\\n4. \"The Avengers\" directed by Joss Whedon with a gross revenue of $1,519,557,910.\\n5. \"Deadpool\" directed by Tim Miller with a gross revenue of $783,112,979.\\n6. \"Interstellar\" directed by Christopher Nolan with a gross revenue of $675,120,017.\\n7. \"Django Unchained\" directed by Quentin Tarantino with a gross revenue of $425,368,238.\\n8. \"Guardians of the Galaxy\" directed by James Gunn with a gross revenue of $773,328,629.\\n9. \"The Hunger Games\" directed by Gary Ross with a gross revenue of $691,210,692.\\n10. \"Mad Max: Fury Road\" directed by George Miller with a gross revenue of $378,858,340.'}"
      ]
     },
     "execution_count": 6,
     "metadata": {},
     "output_type": "execute_result"
    }
   ],
   "execution_count": 6
  }
 ],
 "metadata": {
  "kernelspec": {
   "display_name": "Python 3",
   "language": "python",
   "name": "python3"
  },
  "language_info": {
   "codemirror_mode": {
    "name": "ipython",
    "version": 2
   },
   "file_extension": ".py",
   "mimetype": "text/x-python",
   "name": "python",
   "nbconvert_exporter": "python",
   "pygments_lexer": "ipython2",
   "version": "2.7.6"
  }
 },
 "nbformat": 4,
 "nbformat_minor": 5
}
