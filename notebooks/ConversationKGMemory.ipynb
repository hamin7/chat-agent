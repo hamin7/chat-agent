{
 "cells": [
  {
   "metadata": {
    "ExecuteTime": {
     "end_time": "2024-10-29T17:52:52.440157Z",
     "start_time": "2024-10-29T17:52:51.731563Z"
    }
   },
   "cell_type": "code",
   "source": [
    "from langchain.memory import ConversationKGMemory\n",
    "from langchain.chat_models import ChatOpenAI\n",
    "\n",
    "from dotenv import load_dotenv\n",
    "\n",
    "load_dotenv(dotenv_path=\"../.env\")\n",
    "\n",
    "llm = ChatOpenAI(temperature=0.1)\n",
    "\n",
    "memory = ConversationKGMemory(\n",
    "    llm=llm,\n",
    "    return_messages=True,\n",
    ")\n",
    "\n",
    "\n",
    "def add_message(input, output):\n",
    "    memory.save_context({\"input\": input}, {\"output\": output})\n",
    "\n",
    "\n",
    "add_message(\"Hi I'm hamin, I live in South Korea\", \"Wow that is so cool!\")"
   ],
   "id": "cadf93f2fc91ddfa",
   "outputs": [],
   "execution_count": 9
  },
  {
   "metadata": {
    "ExecuteTime": {
     "end_time": "2024-10-29T17:34:24.736751Z",
     "start_time": "2024-10-29T17:34:24.114818Z"
    }
   },
   "cell_type": "code",
   "source": "memory.load_memory_variables({\"input\": \"who is hamin\"})",
   "id": "b99cfe22f73a599a",
   "outputs": [
    {
     "data": {
      "text/plain": [
       "{'history': [SystemMessage(content='On hamin: hamin lives in South Korea.')]}"
      ]
     },
     "execution_count": 2,
     "metadata": {},
     "output_type": "execute_result"
    }
   ],
   "execution_count": 2
  },
  {
   "metadata": {
    "ExecuteTime": {
     "end_time": "2024-10-29T17:34:45.009750Z",
     "start_time": "2024-10-29T17:34:44.244537Z"
    }
   },
   "cell_type": "code",
   "source": "add_message(\"hamin likes kimchi\", \"Wow that is so cool!\")",
   "id": "6a1ff23922530f60",
   "outputs": [],
   "execution_count": 3
  },
  {
   "metadata": {
    "ExecuteTime": {
     "end_time": "2024-10-29T17:35:04.780347Z",
     "start_time": "2024-10-29T17:35:04.081615Z"
    }
   },
   "cell_type": "code",
   "source": "memory.load_memory_variables({\"inputs\": \"what does hamin like\"})",
   "id": "a7ba331cd27b8a69",
   "outputs": [
    {
     "data": {
      "text/plain": [
       "{'history': [SystemMessage(content='On hamin: hamin lives in South Korea. hamin likes kimchi.')]}"
      ]
     },
     "execution_count": 4,
     "metadata": {},
     "output_type": "execute_result"
    }
   ],
   "execution_count": 4
  },
  {
   "metadata": {
    "ExecuteTime": {
     "end_time": "2024-10-29T17:46:48.059370Z",
     "start_time": "2024-10-29T17:46:48.041892Z"
    }
   },
   "cell_type": "code",
   "source": [
    "from langchain.memory import ConversationKGMemory\n",
    "from langchain.chat_models import ChatOpenAI\n",
    "from dotenv import load_dotenv\n",
    "import sqlite3  # or replace with another RDB of choice\n",
    "\n",
    "load_dotenv(dotenv_path=\"../.env\")\n",
    "\n",
    "llm = ChatOpenAI(temperature=0.1)\n",
    "\n",
    "class RDBConversationKGMemory(ConversationKGMemory):\n",
    "    def __init__(self, db_path, **kwargs):\n",
    "        # Initialize the database connection\n",
    "        self.connection = sqlite3.connect(\"./conversation.db\")\n",
    "        # Call superclass initializer\n",
    "        super().__init__(**kwargs)\n",
    "        # Create table if it doesn't exist\n",
    "        self.create_table()\n",
    "\n",
    "    def create_table(self):\n",
    "        with self.connection:\n",
    "            self.connection.execute('''CREATE TABLE IF NOT EXISTS conversation (\n",
    "                                       id INTEGER PRIMARY KEY,\n",
    "                                       input TEXT,\n",
    "                                       output TEXT,\n",
    "                                       timestamp DATETIME DEFAULT CURRENT_TIMESTAMP)''')\n",
    "\n",
    "    def save_context(self, inputs, outputs):\n",
    "        input_text = inputs[\"input\"]\n",
    "        output_text = outputs[\"output\"]\n",
    "        with self.connection:\n",
    "            self.connection.execute(\n",
    "                \"INSERT INTO conversation (input, output) VALUES (?, ?)\",\n",
    "                (input_text, output_text)\n",
    "            )\n",
    "\n",
    "    def load_memory_variables(self):\n",
    "        with self.connection:\n",
    "            # Retrieve and format stored messages\n",
    "            return [{\"input\": row[0], \"output\": row[1]} for row in\n",
    "                    self.connection.execute(\"SELECT input, output FROM conversation ORDER BY timestamp\")]\n",
    "\n",
    "memory = RDBConversationKGMemory(db_path=\"conversation.db\", llm=llm, return_messages=True)\n",
    "\n",
    "def add_message(input, output):\n",
    "    memory.save_context({\"input\": input}, {\"output\": output})\n",
    "\n",
    "# Example usage\n",
    "add_message(\"Hi I'm hamin, I live in South Korea\", \"Wow that is so cool!\")"
   ],
   "id": "27ba6738d74d2445",
   "outputs": [
    {
     "ename": "ValueError",
     "evalue": "\"RDBConversationKGMemory\" object has no field \"connection\"",
     "output_type": "error",
     "traceback": [
      "\u001B[0;31m---------------------------------------------------------------------------\u001B[0m",
      "\u001B[0;31mValueError\u001B[0m                                Traceback (most recent call last)",
      "Cell \u001B[0;32mIn[8], line 42\u001B[0m\n\u001B[1;32m     37\u001B[0m         \u001B[38;5;28;01mwith\u001B[39;00m \u001B[38;5;28mself\u001B[39m\u001B[38;5;241m.\u001B[39mconnection:\n\u001B[1;32m     38\u001B[0m             \u001B[38;5;66;03m# Retrieve and format stored messages\u001B[39;00m\n\u001B[1;32m     39\u001B[0m             \u001B[38;5;28;01mreturn\u001B[39;00m [{\u001B[38;5;124m\"\u001B[39m\u001B[38;5;124minput\u001B[39m\u001B[38;5;124m\"\u001B[39m: row[\u001B[38;5;241m0\u001B[39m], \u001B[38;5;124m\"\u001B[39m\u001B[38;5;124moutput\u001B[39m\u001B[38;5;124m\"\u001B[39m: row[\u001B[38;5;241m1\u001B[39m]} \u001B[38;5;28;01mfor\u001B[39;00m row \u001B[38;5;129;01min\u001B[39;00m\n\u001B[1;32m     40\u001B[0m                     \u001B[38;5;28mself\u001B[39m\u001B[38;5;241m.\u001B[39mconnection\u001B[38;5;241m.\u001B[39mexecute(\u001B[38;5;124m\"\u001B[39m\u001B[38;5;124mSELECT input, output FROM conversation ORDER BY timestamp\u001B[39m\u001B[38;5;124m\"\u001B[39m)]\n\u001B[0;32m---> 42\u001B[0m memory \u001B[38;5;241m=\u001B[39m \u001B[43mRDBConversationKGMemory\u001B[49m\u001B[43m(\u001B[49m\u001B[43mdb_path\u001B[49m\u001B[38;5;241;43m=\u001B[39;49m\u001B[38;5;124;43m\"\u001B[39;49m\u001B[38;5;124;43mconversation.db\u001B[39;49m\u001B[38;5;124;43m\"\u001B[39;49m\u001B[43m,\u001B[49m\u001B[43m \u001B[49m\u001B[43mllm\u001B[49m\u001B[38;5;241;43m=\u001B[39;49m\u001B[43mllm\u001B[49m\u001B[43m,\u001B[49m\u001B[43m \u001B[49m\u001B[43mreturn_messages\u001B[49m\u001B[38;5;241;43m=\u001B[39;49m\u001B[38;5;28;43;01mTrue\u001B[39;49;00m\u001B[43m)\u001B[49m\n\u001B[1;32m     44\u001B[0m \u001B[38;5;28;01mdef\u001B[39;00m \u001B[38;5;21madd_message\u001B[39m(\u001B[38;5;28minput\u001B[39m, output):\n\u001B[1;32m     45\u001B[0m     memory\u001B[38;5;241m.\u001B[39msave_context({\u001B[38;5;124m\"\u001B[39m\u001B[38;5;124minput\u001B[39m\u001B[38;5;124m\"\u001B[39m: \u001B[38;5;28minput\u001B[39m}, {\u001B[38;5;124m\"\u001B[39m\u001B[38;5;124moutput\u001B[39m\u001B[38;5;124m\"\u001B[39m: output})\n",
      "Cell \u001B[0;32mIn[8], line 13\u001B[0m, in \u001B[0;36mRDBConversationKGMemory.__init__\u001B[0;34m(self, db_path, **kwargs)\u001B[0m\n\u001B[1;32m     11\u001B[0m \u001B[38;5;28;01mdef\u001B[39;00m \u001B[38;5;21m__init__\u001B[39m(\u001B[38;5;28mself\u001B[39m, db_path, \u001B[38;5;241m*\u001B[39m\u001B[38;5;241m*\u001B[39mkwargs):\n\u001B[1;32m     12\u001B[0m     \u001B[38;5;66;03m# Initialize the database connection\u001B[39;00m\n\u001B[0;32m---> 13\u001B[0m     \u001B[38;5;28;43mself\u001B[39;49m\u001B[38;5;241;43m.\u001B[39;49m\u001B[43mconnection\u001B[49m \u001B[38;5;241m=\u001B[39m sqlite3\u001B[38;5;241m.\u001B[39mconnect(\u001B[38;5;124m\"\u001B[39m\u001B[38;5;124m./conversation.db\u001B[39m\u001B[38;5;124m\"\u001B[39m)\n\u001B[1;32m     14\u001B[0m     \u001B[38;5;66;03m# Call superclass initializer\u001B[39;00m\n\u001B[1;32m     15\u001B[0m     \u001B[38;5;28msuper\u001B[39m()\u001B[38;5;241m.\u001B[39m\u001B[38;5;21m__init__\u001B[39m(\u001B[38;5;241m*\u001B[39m\u001B[38;5;241m*\u001B[39mkwargs)\n",
      "File \u001B[0;32m~/PycharmProjects/chat-agent/.venv/lib/python3.11/site-packages/pydantic/main.py:357\u001B[0m, in \u001B[0;36mpydantic.main.BaseModel.__setattr__\u001B[0;34m()\u001B[0m\n",
      "\u001B[0;31mValueError\u001B[0m: \"RDBConversationKGMemory\" object has no field \"connection\""
     ]
    }
   ],
   "execution_count": 8
  }
 ],
 "metadata": {
  "kernelspec": {
   "display_name": "Python 3",
   "language": "python",
   "name": "python3"
  },
  "language_info": {
   "codemirror_mode": {
    "name": "ipython",
    "version": 2
   },
   "file_extension": ".py",
   "mimetype": "text/x-python",
   "name": "python",
   "nbconvert_exporter": "python",
   "pygments_lexer": "ipython2",
   "version": "2.7.6"
  }
 },
 "nbformat": 4,
 "nbformat_minor": 5
}
