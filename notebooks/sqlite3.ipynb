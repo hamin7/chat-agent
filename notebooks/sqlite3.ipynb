{
 "cells": [
  {
   "cell_type": "code",
   "id": "initial_id",
   "metadata": {
    "collapsed": true,
    "ExecuteTime": {
     "end_time": "2024-10-29T18:01:23.748242Z",
     "start_time": "2024-10-29T18:01:23.744496Z"
    }
   },
   "source": [
    "import sqlite3\n",
    "\n",
    "# SQLite 데이터베이스에 연결 (데이터베이스가 없으면 새로 생성)\n",
    "conn = sqlite3.connect(\"sqlite3.db\")\n",
    "cursor = conn.cursor()\n",
    "\n",
    "# 예시 테이블 생성 (필요에 따라 테이블 스키마를 정의하세요)\n",
    "cursor.execute(\"\"\"\n",
    "CREATE TABLE IF NOT EXISTS interactions (\n",
    "    id INTEGER PRIMARY KEY AUTOINCREMENT,\n",
    "    user_input TEXT,\n",
    "    bot_response TEXT,\n",
    "    timestamp DATETIME DEFAULT CURRENT_TIMESTAMP\n",
    ")\n",
    "\"\"\")\n",
    "conn.commit()"
   ],
   "outputs": [],
   "execution_count": 1
  },
  {
   "metadata": {
    "ExecuteTime": {
     "end_time": "2024-10-29T18:01:26.045336Z",
     "start_time": "2024-10-29T18:01:25.720381Z"
    }
   },
   "cell_type": "code",
   "source": [
    "from langchain.chat_models import ChatOpenAI\n",
    "\n",
    "from dotenv import load_dotenv\n",
    "\n",
    "load_dotenv(dotenv_path=\"../.env\")\n",
    "# LangChain OpenAI 모델 생성 (API 키 필요)\n",
    "llm = ChatOpenAI(temperature=0.1)"
   ],
   "id": "cc5dc9fccbff42a2",
   "outputs": [],
   "execution_count": 2
  },
  {
   "metadata": {
    "ExecuteTime": {
     "end_time": "2024-10-29T18:01:28.127938Z",
     "start_time": "2024-10-29T18:01:27.924757Z"
    }
   },
   "cell_type": "code",
   "source": [
    "from langchain.memory import ConversationKGMemory\n",
    "\n",
    "memory = ConversationKGMemory(\n",
    "    llm=llm,\n",
    "    return_messages=True,\n",
    ")\n",
    "\n",
    "\n",
    "def add_message(input, output):\n",
    "    memory.save_context({\"input\": input}, {\"output\": output})"
   ],
   "id": "68f9419e91e4a456",
   "outputs": [],
   "execution_count": 3
  },
  {
   "metadata": {
    "ExecuteTime": {
     "end_time": "2024-10-29T18:01:30.670290Z",
     "start_time": "2024-10-29T18:01:30.667451Z"
    }
   },
   "cell_type": "code",
   "source": [
    "user_input = \"Hi I'm hamin, I live in South Korea\"\n",
    "bot_response = \"Wow that is so cool!\""
   ],
   "id": "98a47468af099890",
   "outputs": [],
   "execution_count": 4
  },
  {
   "metadata": {
    "ExecuteTime": {
     "end_time": "2024-10-29T18:01:33.554415Z",
     "start_time": "2024-10-29T18:01:32.729513Z"
    }
   },
   "cell_type": "code",
   "source": "add_message(user_input, bot_response)",
   "id": "a2b76c4850f659d8",
   "outputs": [],
   "execution_count": 5
  },
  {
   "metadata": {
    "ExecuteTime": {
     "end_time": "2024-10-29T18:01:40.654450Z",
     "start_time": "2024-10-29T18:01:40.651242Z"
    }
   },
   "cell_type": "code",
   "source": [
    "def save_interaction(user_input, bot_response):\n",
    "    # 데이터베이스에 데이터 저장\n",
    "    cursor.execute(\"\"\"\n",
    "    INSERT INTO interactions (user_input, bot_response) \n",
    "    VALUES (?, ?)\n",
    "    \"\"\", (user_input, bot_response))\n",
    "    conn.commit()\n",
    "    print(\"Data saved successfully.\")\n"
   ],
   "id": "4f223ffb32832eb3",
   "outputs": [],
   "execution_count": 6
  },
  {
   "metadata": {
    "ExecuteTime": {
     "end_time": "2024-10-29T18:01:42.636515Z",
     "start_time": "2024-10-29T18:01:42.632999Z"
    }
   },
   "cell_type": "code",
   "source": [
    "# 사용자 입력과 LangChain 응답을 저장\n",
    "save_interaction(user_input, bot_response)"
   ],
   "id": "621a413bc3ae7d0b",
   "outputs": [
    {
     "name": "stdout",
     "output_type": "stream",
     "text": [
      "Data saved successfully.\n"
     ]
    }
   ],
   "execution_count": 7
  },
  {
   "metadata": {
    "ExecuteTime": {
     "end_time": "2024-10-29T18:01:47.070577Z",
     "start_time": "2024-10-29T18:01:46.395156Z"
    }
   },
   "cell_type": "code",
   "source": [
    "user_input = \"hamin likes kimchi\"\n",
    "bot_response = \"I like Kimchi too\"\n",
    "add_message(user_input, bot_response)\n",
    "\n",
    "# 사용자 입력과 LangChain 응답을 저장\n",
    "save_interaction(user_input, bot_response)"
   ],
   "id": "4300607d210b5409",
   "outputs": [
    {
     "name": "stdout",
     "output_type": "stream",
     "text": [
      "Data saved successfully.\n"
     ]
    }
   ],
   "execution_count": 8
  },
  {
   "metadata": {
    "ExecuteTime": {
     "end_time": "2024-10-29T18:02:22.588887Z",
     "start_time": "2024-10-29T18:02:22.586226Z"
    }
   },
   "cell_type": "code",
   "source": [
    "def fetch_all_interactions():\n",
    "    cursor.execute(\"SELECT * FROM interactions\")\n",
    "    rows = cursor.fetchall()\n",
    "    for row in rows:\n",
    "        print(row)"
   ],
   "id": "d364131e9b68e69",
   "outputs": [],
   "execution_count": 9
  },
  {
   "metadata": {
    "ExecuteTime": {
     "end_time": "2024-10-29T18:02:24.342964Z",
     "start_time": "2024-10-29T18:02:24.339999Z"
    }
   },
   "cell_type": "code",
   "source": [
    "# 데이터 조회\n",
    "fetch_all_interactions()"
   ],
   "id": "8cabcb0d416dfce",
   "outputs": [
    {
     "name": "stdout",
     "output_type": "stream",
     "text": [
      "(1, \"Hi I'm hamin, I live in South Korea\", 'Wow that is so cool!', '2024-10-29 17:56:03')\n",
      "(2, \"Hi I'm hamin, I live in South Korea\", 'Wow that is so cool!', '2024-10-29 18:01:42')\n",
      "(3, 'hamin likes kimchi', 'I like Kimchi too', '2024-10-29 18:01:47')\n"
     ]
    }
   ],
   "execution_count": 10
  }
 ],
 "metadata": {
  "kernelspec": {
   "display_name": "Python 3",
   "language": "python",
   "name": "python3"
  },
  "language_info": {
   "codemirror_mode": {
    "name": "ipython",
    "version": 2
   },
   "file_extension": ".py",
   "mimetype": "text/x-python",
   "name": "python",
   "nbconvert_exporter": "python",
   "pygments_lexer": "ipython2",
   "version": "2.7.6"
  }
 },
 "nbformat": 4,
 "nbformat_minor": 5
}
